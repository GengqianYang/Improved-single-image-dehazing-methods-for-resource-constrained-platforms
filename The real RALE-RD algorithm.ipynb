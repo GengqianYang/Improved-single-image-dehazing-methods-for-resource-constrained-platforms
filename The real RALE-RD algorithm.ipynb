{
 "cells": [
  {
   "cell_type": "code",
   "execution_count": 1,
   "metadata": {},
   "outputs": [],
   "source": [
    "import cv2\n",
    "import math\n",
    "import numpy as np\n",
    "import sys\n",
    "#Dark Channel Prior \n",
    "def DCP(im,size):\n",
    "    b,g,r = cv2.split(im)\n",
    "    dc = cv2.min(cv2.min(r,g),b);\n",
    "    kernel = cv2.getStructuringElement(cv2.MORPH_RECT,(size,size))\n",
    "    dark = cv2.erode(dc,kernel)\n",
    "    return dark"
   ]
  },
  {
   "cell_type": "code",
   "execution_count": 2,
   "metadata": {},
   "outputs": [
    {
     "name": "stdout",
     "output_type": "stream",
     "text": [
      "(450, 800, 3)\n",
      "(450, 800)\n",
      "The number of pixels is 360000.\n"
     ]
    }
   ],
   "source": [
    "#window size( Please feel free to change the window size according to the actual size of the input image, which may increase the overall performance)\n",
    "size=7\n",
    "#input image( Please enter the route of the input image)\n",
    "img_colour=cv2.imread('C:\\\\Users\\\\Gengqian Yang\\\\example1.jpg')\n",
    "img_colour =img_colour.astype('float64')/255\n",
    "img_dark=DCP(img_colour,size)\n",
    "cv2.namedWindow(\"DCP\",0)\n",
    "cv2.resizeWindow(\"DCP\", 1920, 1080)\n",
    "cv2.imshow('DCP',img_dark)\n",
    "cv2.waitKey()\n",
    "cv2.destroyAllWindows()\n",
    "num_pixel=np.size(img_dark)\n",
    "print(np.shape(img_colour))\n",
    "print(np.shape(img_dark))\n",
    "print('The number of pixels is {}.'.format(num_pixel))"
   ]
  },
  {
   "cell_type": "code",
   "execution_count": 3,
   "metadata": {},
   "outputs": [],
   "source": [
    "#estimation function of the atmospheric light\n",
    "def atmospheric_light(img_colour,img_dark):\n",
    "    num_of_pixel=img_dark.size\n",
    "    h,w=img_colour.shape[0:2]\n",
    "    img_size = h*w\n",
    "    num=int(num_of_pixel/1000)\n",
    "    darkvec = img_dark.reshape(img_size,1)\n",
    "    imvec = img_colour.reshape(img_size,3)\n",
    "    indices = darkvec.argsort()\n",
    "    indices = indices[img_size-num::]\n",
    "    atmsum = np.zeros([1,3])\n",
    "    for ind in range(1,num):\n",
    "        atmsum = atmsum + imvec[indices[ind]]\n",
    "    A = atmsum / num\n",
    "    return A"
   ]
  },
  {
   "cell_type": "code",
   "execution_count": 4,
   "metadata": {},
   "outputs": [
    {
     "name": "stdout",
     "output_type": "stream",
     "text": [
      "[[0.71185548 0.69619826 0.69750182]]\n",
      "[[181.52314815 177.53055556 177.86296296]]\n"
     ]
    }
   ],
   "source": [
    "#the top 0.1% brightest pixels\n",
    "A=atmospheric_light(img_colour,img_dark)\n",
    "#the brightest pixel\n",
    "index=[np.where(img_dark == np.amax(img_dark))[0][0],np.where(img_dark == np.amax(img_dark))[1][0]]\n",
    "#our proposed estimation method\n",
    "A[0][0]=(float(img_colour[int(index[0])][int(index[1])][0]))*2/3+A[0][0]/3\n",
    "A[0][1]=(float(img_colour[int(index[0])][int(index[1])][1]))*2/3+A[0][1]/3\n",
    "A[0][2]=(float(img_colour[int(index[0])][int(index[1])][2]))*2/3+A[0][2]/3\n",
    "print(A)\n",
    "print(A*255)"
   ]
  },
  {
   "cell_type": "code",
   "execution_count": 5,
   "metadata": {},
   "outputs": [],
   "source": [
    "#coarse transmission estimation function\n",
    "def transmission(img_colour,A,sz):\n",
    "    #There is no haze-free image in the real-world due to the wide existence of haze.\n",
    "    #Hence, a coefficient omega was introduced to reserve a very small amount of haze in the result to produce a natural result.\n",
    "    omega = 0.95\n",
    "    img_normalization = np.empty(img_colour.shape,img_colour.dtype);\n",
    "    for ind in range(0,3):\n",
    "        img_normalization[:,:,ind] = img_colour[:,:,ind]/A[0,ind]\n",
    "    transmission = 1 - omega*DCP(img_normalization,sz);\n",
    "    return transmission"
   ]
  },
  {
   "cell_type": "code",
   "execution_count": 6,
   "metadata": {},
   "outputs": [
    {
     "name": "stdout",
     "output_type": "stream",
     "text": [
      "[[0.22018616 0.22018616 0.22018616 ... 0.15217425 0.15217425 0.15217425]\n",
      " [0.22018616 0.22018616 0.22018616 ... 0.15217425 0.15217425 0.15217425]\n",
      " [0.22018616 0.22018616 0.22018616 ... 0.15217425 0.15217425 0.15217425]\n",
      " ...\n",
      " [0.71691689 0.71691689 0.71691689 ... 0.66350499 0.66350499 0.6581638 ]\n",
      " [0.71691689 0.71691689 0.71691689 ... 0.66350499 0.66350499 0.6581638 ]\n",
      " [0.71691689 0.71691689 0.71691689 ... 0.66350499 0.66350499 0.6581638 ]]\n"
     ]
    },
    {
     "data": {
      "text/plain": [
       "True"
      ]
     },
     "execution_count": 6,
     "metadata": {},
     "output_type": "execute_result"
    }
   ],
   "source": [
    "t=transmission(img_colour,A,size)\n",
    "#checking coarse tranmission map by using opencv\n",
    "cv2.namedWindow(\"transmission\",0)\n",
    "cv2.resizeWindow(\"transmission\", 1920, 1080)\n",
    "cv2.imshow('transmission',t)\n",
    "cv2.waitKey()\n",
    "cv2.destroyAllWindows()\n",
    "print(t)\n",
    "cv2.imwrite('t for example1.jpg',t*255)"
   ]
  },
  {
   "cell_type": "code",
   "execution_count": 7,
   "metadata": {},
   "outputs": [],
   "source": [
    "# morphological operations\n",
    "#closing\n",
    "kernel = cv2.getStructuringElement(cv2.MORPH_RECT, (7,7))\n",
    "closing = cv2.morphologyEx(t, cv2.MORPH_CLOSE, kernel, iterations=2)\n",
    "t_C=closing\n",
    "#opening\n",
    "opening = cv2.morphologyEx(t_C, cv2.MORPH_OPEN, kernel, iterations=2)\n",
    "t_CO=opening"
   ]
  },
  {
   "cell_type": "code",
   "execution_count": 8,
   "metadata": {},
   "outputs": [
    {
     "name": "stdout",
     "output_type": "stream",
     "text": [
      "[[0.22552735 0.22552735 0.22552735 ... 0.14694075 0.14694075 0.14694075]\n",
      " [0.22552735 0.22552735 0.22552735 ... 0.14694075 0.14694075 0.14694075]\n",
      " [0.22552735 0.22552735 0.22552735 ... 0.14694075 0.14694075 0.14694075]\n",
      " ...\n",
      " [0.69555213 0.69555213 0.69555213 ... 0.61009308 0.61009308 0.61009308]\n",
      " [0.69555213 0.69555213 0.69555213 ... 0.61009308 0.61009308 0.61009308]\n",
      " [0.69555213 0.69555213 0.69555213 ... 0.61009308 0.61009308 0.61009308]]\n"
     ]
    },
    {
     "data": {
      "text/plain": [
       "True"
      ]
     },
     "execution_count": 8,
     "metadata": {},
     "output_type": "execute_result"
    }
   ],
   "source": [
    "#checking tranmission CO by using opencv\n",
    "cv2.namedWindow(\"transmission CO\",0)\n",
    "cv2.resizeWindow(\"transmission CO\", 1920, 1080)\n",
    "cv2.imshow('transmission CO',t_CO)\n",
    "cv2.waitKey()\n",
    "cv2.destroyAllWindows()\n",
    "print(t_CO)\n",
    "cv2.imwrite('t_CO for example1.jpg',t_CO*255)"
   ]
  },
  {
   "cell_type": "code",
   "execution_count": 9,
   "metadata": {},
   "outputs": [
    {
     "name": "stdout",
     "output_type": "stream",
     "text": [
      "[[0.39465881 0.39465881 0.39465881 ... 0.40523349 0.40523349 0.40523349]\n",
      " [0.39465881 0.39465881 0.39465881 ... 0.40523349 0.40523349 0.40523349]\n",
      " [0.39465881 0.39465881 0.39465881 ... 0.40523349 0.40523349 0.40523349]\n",
      " ...\n",
      " [0.71691689 0.71691689 0.71691689 ... 0.66350499 0.66350499 0.6581638 ]\n",
      " [0.71691689 0.71691689 0.71691689 ... 0.66350499 0.66350499 0.6581638 ]\n",
      " [0.71691689 0.71691689 0.71691689 ... 0.66350499 0.66350499 0.6581638 ]]\n"
     ]
    }
   ],
   "source": [
    "J = np.copy(img_colour)\n",
    "#lower bound of the transmission map\n",
    "t_main = cv2.max(t_CO,0.4)\n",
    "t_R =t-t_CO\n",
    "#reconstructed transmission map\n",
    "t=t_main+t_R\n",
    "print(t)\n",
    "#dehazing by reverse calculation of the atmospheric scattering model\n",
    "for ind in range(0,3):\n",
    "    J[:,:,ind] = (img_colour[:,:,ind]-A[0,ind])/t + A[0,ind]"
   ]
  },
  {
   "cell_type": "code",
   "execution_count": 10,
   "metadata": {},
   "outputs": [],
   "source": [
    "#checking haze-free image by using opencv\n",
    "cv2.namedWindow(\"image\",0)\n",
    "cv2.resizeWindow(\"image\", 1920, 1080)\n",
    "cv2.imshow('image',img_colour)\n",
    "cv2.namedWindow(\"haze_free image\",0)\n",
    "cv2.resizeWindow(\"haze_free image\", 1920, 1080)\n",
    "cv2.imshow('haze_free image',J)\n",
    "cv2.waitKey()\n",
    "cv2.destroyAllWindows()"
   ]
  },
  {
   "cell_type": "code",
   "execution_count": 11,
   "metadata": {},
   "outputs": [
    {
     "data": {
      "text/plain": [
       "True"
      ]
     },
     "execution_count": 11,
     "metadata": {},
     "output_type": "execute_result"
    }
   ],
   "source": [
    "#save function\n",
    "cv2.imwrite('C:\\\\Users\\\\Gengqian Yang\\\\haze_free image.jpg',J*255)"
   ]
  },
  {
   "cell_type": "code",
   "execution_count": 12,
   "metadata": {},
   "outputs": [
    {
     "data": {
      "text/plain": [
       "True"
      ]
     },
     "execution_count": 12,
     "metadata": {},
     "output_type": "execute_result"
    }
   ],
   "source": [
    "#CLAHE (This step is optional. It is only used for enhancing the contrast and luminance of a dim result, which is rare but possible.)\n",
    "import cv2\n",
    "path = 'C:\\\\Users\\\\Gengqian Yang\\\\haze_free image.jpg'\n",
    "image = cv2.imread(path,cv2.IMREAD_COLOR)\n",
    "cv2.imwrite('image.jpg',image,[cv2.IMWRITE_JPEG_QUALITY, 50])\n",
    "b,g,r = cv2.split(image)\n",
    "clahe = cv2.createCLAHE(clipLimit=2.0, tileGridSize=(8,8))\n",
    "b = clahe.apply(b)\n",
    "g = clahe.apply(g)\n",
    "r = clahe.apply(r)\n",
    "image = cv2.merge([b,g,r])\n",
    "cv2.imwrite('C:\\\\Users\\\\Gengqian Yang\\\\clahe.jpg',image,[cv2.IMWRITE_JPEG_QUALITY, 50])"
   ]
  },
  {
   "cell_type": "code",
   "execution_count": 13,
   "metadata": {},
   "outputs": [],
   "source": [
    "#checking haze-free image after applying CLAHE by using opencv\n",
    "cv2.namedWindow(\"CLAHE\",0)\n",
    "cv2.resizeWindow(\"CLAHE\", 1920, 1080)\n",
    "cv2.imshow('CLAHE',image)\n",
    "cv2.waitKey()\n",
    "cv2.destroyAllWindows()"
   ]
  },
  {
   "cell_type": "code",
   "execution_count": null,
   "metadata": {},
   "outputs": [],
   "source": []
  },
  {
   "cell_type": "code",
   "execution_count": null,
   "metadata": {},
   "outputs": [],
   "source": []
  }
 ],
 "metadata": {
  "kernelspec": {
   "display_name": "Python 3",
   "language": "python",
   "name": "python3"
  },
  "language_info": {
   "codemirror_mode": {
    "name": "ipython",
    "version": 3
   },
   "file_extension": ".py",
   "mimetype": "text/x-python",
   "name": "python",
   "nbconvert_exporter": "python",
   "pygments_lexer": "ipython3",
   "version": "3.7.4"
  }
 },
 "nbformat": 4,
 "nbformat_minor": 2
}
